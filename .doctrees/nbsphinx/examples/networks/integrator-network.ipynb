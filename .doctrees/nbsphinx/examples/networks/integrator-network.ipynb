{
 "cells": [
  {
   "cell_type": "markdown",
   "execution_count": 1,
   "metadata": {},
   "source": [
    "# Integrator\n",
    "\n",
    "This demo implements a one-dimensional neural integrator.\n",
    "\n",
    "This is the first example of a recurrent network in the demos.\n",
    "It shows how neurons can be used to implement stable dynamics.\n",
    "Such dynamics are important for memory, noise cleanup,\n",
    "statistical inference, and many other dynamic transformations.\n",
    "\n",
    "When you run this demo, it will automatically\n",
    "put in some step functions on the input,\n",
    "so you can see that the output is integrating\n",
    "(i.e. summing over time) the input.\n",
    "You can also input your own values.\n",
    "Note that since the integrator constantly sums its input,\n",
    "it will saturate quickly if you leave the input non-zero.\n",
    "This makes it clear that neurons have a finite range of representation.\n",
    "Such saturation effects can be exploited\n",
    "to perform useful computations (e.g. soft normalization)."
   ]
  },
  {
   "cell_type": "code",
   "execution_count": 1,
   "metadata": {
    "execution": {
     "iopub.execute_input": "2020-09-16T14:46:39.347296Z",
     "iopub.status.busy": "2020-09-16T14:46:39.346432Z",
     "iopub.status.idle": "2020-09-16T14:46:39.899838Z",
     "shell.execute_reply": "2020-09-16T14:46:39.900535Z"
    }
   },
   "outputs": [],
   "source": [
    "%matplotlib inline\n",
    "import matplotlib.pyplot as plt\n",
    "\n",
    "import nengo\n",
    "from nengo.processes import Piecewise"
   ]
  },
  {
   "cell_type": "markdown",
   "execution_count": 2,
   "metadata": {},
   "source": [
    "## Step 1: Create the neural populations\n",
    "\n",
    "Our model consists of one recurrently connected ensemble,\n",
    "and an input population."
   ]
  },
  {
   "cell_type": "code",
   "execution_count": 2,
   "metadata": {
    "execution": {
     "iopub.execute_input": "2020-09-16T14:46:39.910235Z",
     "iopub.status.busy": "2020-09-16T14:46:39.908387Z",
     "iopub.status.idle": "2020-09-16T14:46:39.913576Z",
     "shell.execute_reply": "2020-09-16T14:46:39.913007Z"
    }
   },
   "outputs": [],
   "source": [
    "tau = 0.1\n",
    "\n",
    "integrator = nengo.networks.Integrator(tau, n_neurons=100, dimensions=1)"
   ]
  },
  {
   "cell_type": "markdown",
   "execution_count": 3,
   "metadata": {},
   "source": [
    "## Step 2: Create input for the model\n",
    "\n",
    "We will use a piecewise step function as input,\n",
    "so we can see the effects of recurrence."
   ]
  },
  {
   "cell_type": "code",
   "execution_count": 3,
   "metadata": {
    "execution": {
     "iopub.execute_input": "2020-09-16T14:46:39.918926Z",
     "iopub.status.busy": "2020-09-16T14:46:39.918235Z",
     "iopub.status.idle": "2020-09-16T14:46:39.921760Z",
     "shell.execute_reply": "2020-09-16T14:46:39.920919Z"
    }
   },
   "outputs": [],
   "source": [
    "with integrator:\n",
    "    input = nengo.Node(Piecewise({0: 0, 0.2: 1, 1: 0, 2: -2, 3: 0, 4: 1, 5: 0}))"
   ]
  },
  {
   "cell_type": "markdown",
   "execution_count": 4,
   "metadata": {},
   "source": [
    "## Step 3: Connect the network elements"
   ]
  },
  {
   "cell_type": "code",
   "execution_count": 4,
   "metadata": {
    "execution": {
     "iopub.execute_input": "2020-09-16T14:46:39.926724Z",
     "iopub.status.busy": "2020-09-16T14:46:39.926165Z",
     "iopub.status.idle": "2020-09-16T14:46:39.929913Z",
     "shell.execute_reply": "2020-09-16T14:46:39.929375Z"
    }
   },
   "outputs": [],
   "source": [
    "# Connect the input\n",
    "with integrator:\n",
    "    nengo.Connection(input, integrator.input, synapse=tau)"
   ]
  },
  {
   "cell_type": "markdown",
   "execution_count": 5,
   "metadata": {},
   "source": [
    "## Step 4: Probe outputs\n",
    "\n",
    "Anything that is probed will collect the data it produces over time,\n",
    "allowing us to analyze and visualize it later."
   ]
  },
  {
   "cell_type": "code",
   "execution_count": 5,
   "metadata": {
    "execution": {
     "iopub.execute_input": "2020-09-16T14:46:39.934805Z",
     "iopub.status.busy": "2020-09-16T14:46:39.934258Z",
     "iopub.status.idle": "2020-09-16T14:46:39.937571Z",
     "shell.execute_reply": "2020-09-16T14:46:39.937966Z"
    }
   },
   "outputs": [],
   "source": [
    "with integrator:\n",
    "    input_probe = nengo.Probe(input)\n",
    "    integrator_probe = nengo.Probe(integrator.ensemble, synapse=0.01)  # 10ms filter"
   ]
  },
  {
   "cell_type": "markdown",
   "execution_count": 6,
   "metadata": {},
   "source": [
    "## Step 5: Run the model"
   ]
  },
  {
   "cell_type": "code",
   "execution_count": 6,
   "metadata": {
    "execution": {
     "iopub.execute_input": "2020-09-16T14:46:39.944268Z",
     "iopub.status.busy": "2020-09-16T14:46:39.943232Z",
     "iopub.status.idle": "2020-09-16T14:46:40.809021Z",
     "shell.execute_reply": "2020-09-16T14:46:40.808122Z"
    }
   },
   "outputs": [],
   "source": [
    "# Create our simulator\n",
    "with nengo.Simulator(integrator) as sim:\n",
    "    # Run it for 6 seconds\n",
    "    sim.run(6)"
   ]
  },
  {
   "cell_type": "markdown",
   "execution_count": 7,
   "metadata": {},
   "source": [
    "## Step 6: Plot the results"
   ]
  },
  {
   "cell_type": "code",
   "execution_count": 7,
   "metadata": {
    "execution": {
     "iopub.execute_input": "2020-09-16T14:46:40.816277Z",
     "iopub.status.busy": "2020-09-16T14:46:40.814514Z",
     "iopub.status.idle": "2020-09-16T14:46:41.059048Z",
     "shell.execute_reply": "2020-09-16T14:46:41.059486Z"
    }
   },
   "outputs": [
    {
     "data": {
      "text/plain": [
       "<matplotlib.legend.Legend at 0x7fbca1310d68>"
      ]
     },
     "execution_count": 1,
     "metadata": {},
     "output_type": "execute_result"
    },
    {
     "data": {
      "image/png": "[encoded data removed]",
      "text/plain": [
       "<Figure size 432x288 with 1 Axes>"
      ]
     },
     "metadata": {
      "needs_background": "light"
     },
     "output_type": "display_data"
    }
   ],
   "source": [
    "# Plot the decoded output of the ensemble\n",
    "plt.figure()\n",
    "plt.plot(sim.trange(), sim.data[integrator_probe], label=\"A output\")\n",
    "plt.plot(sim.trange(), sim.data[input_probe], \"k\", label=\"Input\")\n",
    "plt.legend(loc=\"best\")"
   ]
  },
  {
   "cell_type": "markdown",
   "execution_count": 8,
   "metadata": {},
   "source": [
    "The graph shows the response to the input by the integrator.\n",
    "Because it is implemented in neurons,\n",
    "it will not be perfect (i.e. there will be drift).\n",
    "Running several times will give a sense of\n",
    "the kinds of drift you might expect.\n",
    "Drift can be reduced by increasing the number of neurons."
   ]
  }
 ],
 "metadata": {
  "language_info": {
   "codemirror_mode": {
    "name": "ipython",
    "version": 3
   },
   "file_extension": ".py",
   "mimetype": "text/x-python",
   "name": "python",
   "nbconvert_exporter": "python",
   "pygments_lexer": "ipython3",
   "version": "3.6.7"
  }
 },
 "nbformat": 4,
 "nbformat_minor": 2
}
