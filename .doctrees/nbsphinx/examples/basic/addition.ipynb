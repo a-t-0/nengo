{
 "cells": [
  {
   "cell_type": "markdown",
   "execution_count": 1,
   "metadata": {},
   "source": [
    "# Addition\n",
    "\n",
    "In this example, we will construct a network that adds two inputs.\n",
    "The network utilizes two communication channels\n",
    "into the same neural population.\n",
    "Addition is thus somewhat 'free', since the incoming currents\n",
    "from different synaptic connections interact linearly\n",
    "(though two inputs don't have to\n",
    "combine in this way; see the combining demo)."
   ]
  },
  {
   "cell_type": "code",
   "execution_count": 1,
   "metadata": {
    "execution": {
     "iopub.execute_input": "2020-09-16T14:43:23.495589Z",
     "iopub.status.busy": "2020-09-16T14:43:23.494661Z",
     "iopub.status.idle": "2020-09-16T14:43:24.031658Z",
     "shell.execute_reply": "2020-09-16T14:43:24.031150Z"
    }
   },
   "outputs": [],
   "source": [
    "%matplotlib inline\n",
    "import matplotlib.pyplot as plt\n",
    "\n",
    "import nengo"
   ]
  },
  {
   "cell_type": "markdown",
   "execution_count": 2,
   "metadata": {},
   "source": [
    "## Step 1: Create the Model\n",
    "\n",
    "The model has three ensembles, which we will call A, B, and C."
   ]
  },
  {
   "cell_type": "code",
   "execution_count": 2,
   "metadata": {
    "execution": {
     "iopub.execute_input": "2020-09-16T14:43:24.040581Z",
     "iopub.status.busy": "2020-09-16T14:43:24.039691Z",
     "iopub.status.idle": "2020-09-16T14:43:24.042853Z",
     "shell.execute_reply": "2020-09-16T14:43:24.042337Z"
    }
   },
   "outputs": [],
   "source": [
    "# Create the model object\n",
    "model = nengo.Network(label=\"Addition\")\n",
    "with model:\n",
    "    # Create 3 ensembles each containing 100 leaky integrate-and-fire neurons\n",
    "    A = nengo.Ensemble(100, dimensions=1)\n",
    "    B = nengo.Ensemble(100, dimensions=1)\n",
    "    C = nengo.Ensemble(100, dimensions=1)"
   ]
  },
  {
   "cell_type": "markdown",
   "execution_count": 3,
   "metadata": {},
   "source": [
    "## Step 2: Provide Input to the Model\n",
    "\n",
    "We will use two constant scalar values for the two input signals\n",
    "that drive activity in ensembles A and B."
   ]
  },
  {
   "cell_type": "code",
   "execution_count": 3,
   "metadata": {
    "execution": {
     "iopub.execute_input": "2020-09-16T14:43:24.052212Z",
     "iopub.status.busy": "2020-09-16T14:43:24.050939Z",
     "iopub.status.idle": "2020-09-16T14:43:24.054731Z",
     "shell.execute_reply": "2020-09-16T14:43:24.054183Z"
    }
   },
   "outputs": [],
   "source": [
    "with model:\n",
    "    # Create input nodes representing constant values\n",
    "    input_a = nengo.Node(output=0.5)\n",
    "    input_b = nengo.Node(output=0.3)\n",
    "\n",
    "    # Connect the input nodes to the appropriate ensembles\n",
    "    nengo.Connection(input_a, A)\n",
    "    nengo.Connection(input_b, B)\n",
    "\n",
    "    # Connect input ensembles A and B to output ensemble C\n",
    "    nengo.Connection(A, C)\n",
    "    nengo.Connection(B, C)"
   ]
  },
  {
   "cell_type": "markdown",
   "execution_count": 4,
   "metadata": {},
   "source": [
    "## Step 3: Probe Output\n",
    "\n",
    "Let's collect output data from each ensemble and output."
   ]
  },
  {
   "cell_type": "code",
   "execution_count": 4,
   "metadata": {
    "execution": {
     "iopub.execute_input": "2020-09-16T14:43:24.062960Z",
     "iopub.status.busy": "2020-09-16T14:43:24.061356Z",
     "iopub.status.idle": "2020-09-16T14:43:24.063512Z",
     "shell.execute_reply": "2020-09-16T14:43:24.064001Z"
    }
   },
   "outputs": [],
   "source": [
    "with model:\n",
    "    input_a_probe = nengo.Probe(input_a)\n",
    "    input_b_probe = nengo.Probe(input_b)\n",
    "    A_probe = nengo.Probe(A, synapse=0.01)\n",
    "    B_probe = nengo.Probe(B, synapse=0.01)\n",
    "    C_probe = nengo.Probe(C, synapse=0.01)"
   ]
  },
  {
   "cell_type": "markdown",
   "execution_count": 5,
   "metadata": {},
   "source": [
    "## Step 4: Run the Model\n",
    "\n",
    "In order to run the model, we have to create a simulator.\n",
    "Then, we can run that simulator over and over again\n",
    "without affecting the original model."
   ]
  },
  {
   "cell_type": "code",
   "execution_count": 5,
   "metadata": {
    "execution": {
     "iopub.execute_input": "2020-09-16T14:43:24.071548Z",
     "iopub.status.busy": "2020-09-16T14:43:24.070539Z",
     "iopub.status.idle": "2020-09-16T14:43:25.239126Z",
     "shell.execute_reply": "2020-09-16T14:43:25.239571Z"
    }
   },
   "outputs": [],
   "source": [
    "# Create the simulator\n",
    "with nengo.Simulator(model) as sim:\n",
    "    # Run it for 5 seconds\n",
    "    sim.run(5)"
   ]
  },
  {
   "cell_type": "markdown",
   "execution_count": 6,
   "metadata": {},
   "source": [
    "The data produced by running the model can now be plotted."
   ]
  },
  {
   "cell_type": "code",
   "execution_count": 6,
   "metadata": {
    "execution": {
     "iopub.execute_input": "2020-09-16T14:43:25.248418Z",
     "iopub.status.busy": "2020-09-16T14:43:25.246063Z",
     "iopub.status.idle": "2020-09-16T14:43:25.595962Z",
     "shell.execute_reply": "2020-09-16T14:43:25.596421Z"
    }
   },
   "outputs": [
    {
     "data": {
      "text/plain": [
       "Text(0.5, 0, 'time [s]')"
      ]
     },
     "execution_count": 1,
     "metadata": {},
     "output_type": "execute_result"
    },
    {
     "data": {
      "image/png": "[encoded data removed]",
      "text/plain": [
       "<Figure size 432x288 with 1 Axes>"
      ]
     },
     "metadata": {
      "needs_background": "light"
     },
     "output_type": "display_data"
    }
   ],
   "source": [
    "# Plot the input signals and decoded ensemble values\n",
    "t = sim.trange()\n",
    "plt.figure()\n",
    "plt.plot(sim.trange(), sim.data[A_probe], label=\"Decoded Ensemble A\")\n",
    "plt.plot(sim.trange(), sim.data[B_probe], label=\"Decoded Ensemble B\")\n",
    "plt.plot(sim.trange(), sim.data[C_probe], label=\"Decoded Ensemble C\")\n",
    "plt.plot(\n",
    "    sim.trange(), sim.data[input_a_probe], label=\"Input A\", color=\"k\", linewidth=2.0\n",
    ")\n",
    "plt.plot(\n",
    "    sim.trange(), sim.data[input_b_probe], label=\"Input B\", color=\"0.75\", linewidth=2.0\n",
    ")\n",
    "plt.legend()\n",
    "plt.ylim(0, 1)\n",
    "plt.xlabel(\"time [s]\")"
   ]
  },
  {
   "cell_type": "markdown",
   "execution_count": 7,
   "metadata": {},
   "source": [
    "You can check that the decoded value\n",
    "of the activity in ensemble C\n",
    "provides a good estimate of the sum of inputs A and B."
   ]
  }
 ],
 "metadata": {
  "language_info": {
   "codemirror_mode": {
    "name": "ipython",
    "version": 3
   },
   "file_extension": ".py",
   "mimetype": "text/x-python",
   "name": "python",
   "nbconvert_exporter": "python",
   "pygments_lexer": "ipython3",
   "version": "3.6.7"
  }
 },
 "nbformat": 4,
 "nbformat_minor": 2
}
